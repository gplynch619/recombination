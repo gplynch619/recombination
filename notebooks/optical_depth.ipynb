{
 "cells": [
  {
   "cell_type": "code",
   "execution_count": 1,
   "metadata": {},
   "outputs": [
    {
     "name": "stderr",
     "output_type": "stream",
     "text": [
      "2023-11-15 12:57:58.814381: I tensorflow/core/platform/cpu_feature_guard.cc:193] This TensorFlow binary is optimized with oneAPI Deep Neural Network Library (oneDNN) to use the following CPU instructions in performance-critical operations:  SSE4.1 SSE4.2\n",
      "To enable them in other operations, rebuild TensorFlow with the appropriate compiler flags.\n",
      "2023-11-15 12:58:01.728348: I tensorflow/core/platform/cpu_feature_guard.cc:193] This TensorFlow binary is optimized with oneAPI Deep Neural Network Library (oneDNN) to use the following CPU instructions in performance-critical operations:  SSE4.1 SSE4.2\n",
      "To enable them in other operations, rebuild TensorFlow with the appropriate compiler flags.\n"
     ]
    }
   ],
   "source": [
    "EMULATORS_PATH = \"/Users/gabe/projects/emulators/src\"\n",
    "RECOMBINATION_PATH = \"/Users/gabe/projects/recombination/src\"\n",
    "PLANCK_LITE_PATH = \"/Users/gabe/projects/planck/planck-lite-py\"\n",
    "\n",
    "import sys\n",
    "import os\n",
    "import numpy as np\n",
    "from scipy.interpolate import CubicSpline\n",
    "import scipy\n",
    "import classy as Class\n",
    "\n",
    "\n",
    "import matplotlib as mpl\n",
    "import matplotlib.pyplot as plt\n",
    "import cmasher as cmr\n",
    "from mpl_toolkits.axes_grid1 import make_axes_locatable\n",
    "\n",
    "if EMULATORS_PATH not in sys.path:\n",
    "    sys.path.insert(0, \"/Users/gabe/projects/emulators/src\")\n",
    "if RECOMBINATION_PATH not in sys.path:\n",
    "    sys.path.insert(0, \"/Users/gabe/projects/recombination/src\")\n",
    "if PLANCK_LITE_PATH not in sys.path:\n",
    "    sys.path.insert(0, PLANCK_LITE_PATH)\n",
    "from TrainedEmulator import *\n",
    "from RecTools import *\n",
    "from ChainTools import *\n",
    "from planck_lite_py import PlanckLitePy\n",
    "\n",
    "from getdist import plots, MCSamples, loadMCSamples\n",
    "\n",
    "######################################################\n",
    "#  Setting up plots\n",
    "######################################################\n",
    "\n",
    "%config InlineBackend.figure_format = 'retina'\n",
    "font = {'size'   : 16, 'family':'serif'}\n",
    "axislabelfontsize='large'\n",
    "mpl.rc('font', **font)\n",
    "plt.rcParams[\"figure.figsize\"] = [8.0,6.0]\n",
    "plt.rcParams['text.usetex']=True\n",
    "\n",
    "default_settings = plots.GetDistPlotSettings()\n",
    "default_settings.axes_labelsize = 12\n",
    "default_settings.fig_width_inch = 6\n",
    "default_settings.linewidth = 2\n",
    "default_settings.title_limit = 0\n",
    "default_settings.legend_fontsize = 12\n",
    "\n",
    "######################################################\n",
    "#  Loading Chains\n",
    "######################################################\n",
    "\n",
    "#chains_to_load = [\"modrec_prec\", \"modrec_prec_lensing\", \"lcdm_prec_lensing\", \"modrec_prec_lensing_bao\", \"lcdm_prec_lensing_bao\"]\n",
    "chains_to_load = [\"modrec_new\", \"modrec_new_lensing\", \"modrec_new_lensing_bao\", \"modrec_new_lensing_bao_shoes\", \"lcdm_lensing_bao\"]\n",
    "\n",
    "chains = {}\n",
    "\n",
    "burnin_dict = {\"modrec_new\": 0.5,\n",
    "               \"modrec_new_lensing\": 0.5,\n",
    "               \"modrec_new_lensing_bao\": 0.6,\n",
    "               \"modrec_new_lensing_underdisperse\": 0.05,\n",
    "               \"modrec_new_lensing_bao_shoes\": 0.5,\n",
    "               \"lcdm_lensing_bao\": 0.05}\n",
    "\n",
    "chain_dirname = \"/Users/gabe/projects/recombination/data/chains/\"\n",
    "\n",
    "for chain in chains_to_load:\n",
    "    dirname = os.path.join(chain_dirname, \"{}/chains\".format(chain))\n",
    "    s = loadMCSamples(os.path.join(dirname, chain), settings={\"ignore_rows\": burnin_dict[chain], \"fine_bins\": 2048})\n",
    "\n",
    "    chains[chain] = s\n",
    "\n",
    "chi2_lensing_bao_lcdm_bestfit = chains[\"lcdm_lensing_bao\"].getParamBestFitDict()[\"chi2__CMB\"] + chains[\"lcdm_lensing_bao\"].getParamBestFitDict()[\"chi2__BAO\"]\n",
    "\n",
    "s_planck = loadMCSamples(os.path.join(chain_dirname, \"planck_baseline/base_plikHM_TTTEEE_lowl_lowE_lensing\"))\n",
    "\n",
    "planck_renames = {'omegabh2': 'omega_b',\n",
    "                  'omegach2': 'omega_cdm', \n",
    "                  'tau': 'tau_reio', \n",
    "                  'ns': 'n_s',\n",
    "                  'rdrag': 'rs_d'}\n",
    "s_planck.updateRenames(planck_renames)\n",
    "chains[\"planck_baseline\"] = s_planck\n",
    "planck_bestfit = chains[\"planck_baseline\"].getParamBestFitDict()\n",
    "\n",
    "s_class = loadMCSamples(os.path.join(chain_dirname, \"modrec_new_class/chains/modrec_new.post.CLASS\"))\n",
    "chains[\"modrec_new_class\"] = s_class\n",
    "\n",
    "s_class = loadMCSamples(os.path.join(chain_dirname, \"modrec_new_lensing_bao_shoes_class/chains/modrec_new_lensing_bao_shoes.post.CLASS\"))\n",
    "chains[\"modrec_new_lensing_bao_shoes_class\"] = s_class\n",
    "######################################################\n",
    "#  Loading Emulator\n",
    "######################################################\n",
    "\n",
    "emulator_dir = \"/Users/gabe/projects/emulators/models\"\n",
    "emulator_name = \"modrec_new_18\"\n",
    "\n",
    "em = TrainedEmulator(os.path.join(emulator_dir, emulator_name))"
   ]
  },
  {
   "cell_type": "code",
   "execution_count": 2,
   "metadata": {},
   "outputs": [
    {
     "name": "stdout",
     "output_type": "stream",
     "text": [
      "(chain_as_dict[\"H0\"] > 63.5) & (chain_as_dict[\"H0\"] < 64.5) & (chain_as_dict[\"chi2\"] > 0) & (chain_as_dict[\"chi2\"] < 1015.823791899)\n",
      "(chain_as_dict[\"H0\"] > 64.5) & (chain_as_dict[\"H0\"] < 65.5) & (chain_as_dict[\"chi2\"] > 0) & (chain_as_dict[\"chi2\"] < 1015.823791899)\n",
      "(chain_as_dict[\"H0\"] > 65.5) & (chain_as_dict[\"H0\"] < 66.5) & (chain_as_dict[\"chi2\"] > 0) & (chain_as_dict[\"chi2\"] < 1015.823791899)\n",
      "(chain_as_dict[\"H0\"] > 66.5) & (chain_as_dict[\"H0\"] < 67.5) & (chain_as_dict[\"chi2\"] > 0) & (chain_as_dict[\"chi2\"] < 1015.823791899)\n",
      "(chain_as_dict[\"H0\"] > 67.5) & (chain_as_dict[\"H0\"] < 68.5) & (chain_as_dict[\"chi2\"] > 0) & (chain_as_dict[\"chi2\"] < 1015.823791899)\n",
      "(chain_as_dict[\"H0\"] > 68.5) & (chain_as_dict[\"H0\"] < 69.5) & (chain_as_dict[\"chi2\"] > 0) & (chain_as_dict[\"chi2\"] < 1015.823791899)\n",
      "(chain_as_dict[\"H0\"] > 69.5) & (chain_as_dict[\"H0\"] < 70.5) & (chain_as_dict[\"chi2\"] > 0) & (chain_as_dict[\"chi2\"] < 1015.823791899)\n",
      "(chain_as_dict[\"H0\"] > 70.5) & (chain_as_dict[\"H0\"] < 71.5) & (chain_as_dict[\"chi2\"] > 0) & (chain_as_dict[\"chi2\"] < 1015.823791899)\n",
      "(chain_as_dict[\"H0\"] > 71.5) & (chain_as_dict[\"H0\"] < 72.5) & (chain_as_dict[\"chi2\"] > 0) & (chain_as_dict[\"chi2\"] < 1015.823791899)\n",
      "(chain_as_dict[\"H0\"] > 72.5) & (chain_as_dict[\"H0\"] < 73.5) & (chain_as_dict[\"chi2\"] > 0) & (chain_as_dict[\"chi2\"] < 1015.823791899)\n",
      "(chain_as_dict[\"H0\"] > 63.5) & (chain_as_dict[\"H0\"] < 64.5) & (chain_as_dict[\"chi2\"] > 0) & (chain_as_dict[\"chi2\"] < 1015.823791899)\n",
      "(chain_as_dict[\"H0\"] > 64.5) & (chain_as_dict[\"H0\"] < 65.5) & (chain_as_dict[\"chi2\"] > 0) & (chain_as_dict[\"chi2\"] < 1015.823791899)\n",
      "(chain_as_dict[\"H0\"] > 65.5) & (chain_as_dict[\"H0\"] < 66.5) & (chain_as_dict[\"chi2\"] > 0) & (chain_as_dict[\"chi2\"] < 1015.823791899)\n",
      "(chain_as_dict[\"H0\"] > 66.5) & (chain_as_dict[\"H0\"] < 67.5) & (chain_as_dict[\"chi2\"] > 0) & (chain_as_dict[\"chi2\"] < 1015.823791899)\n",
      "(chain_as_dict[\"H0\"] > 67.5) & (chain_as_dict[\"H0\"] < 68.5) & (chain_as_dict[\"chi2\"] > 0) & (chain_as_dict[\"chi2\"] < 1015.823791899)\n",
      "(chain_as_dict[\"H0\"] > 68.5) & (chain_as_dict[\"H0\"] < 69.5) & (chain_as_dict[\"chi2\"] > 0) & (chain_as_dict[\"chi2\"] < 1015.823791899)\n",
      "(chain_as_dict[\"H0\"] > 69.5) & (chain_as_dict[\"H0\"] < 70.5) & (chain_as_dict[\"chi2\"] > 0) & (chain_as_dict[\"chi2\"] < 1015.823791899)\n",
      "(chain_as_dict[\"H0\"] > 70.5) & (chain_as_dict[\"H0\"] < 71.5) & (chain_as_dict[\"chi2\"] > 0) & (chain_as_dict[\"chi2\"] < 1015.823791899)\n",
      "(chain_as_dict[\"H0\"] > 71.5) & (chain_as_dict[\"H0\"] < 72.5) & (chain_as_dict[\"chi2\"] > 0) & (chain_as_dict[\"chi2\"] < 1015.823791899)\n",
      "(chain_as_dict[\"H0\"] > 72.5) & (chain_as_dict[\"H0\"] < 73.5) & (chain_as_dict[\"chi2\"] > 0) & (chain_as_dict[\"chi2\"] < 1015.823791899)\n"
     ]
    }
   ],
   "source": [
    "band_left_edges = np.arange(63.5, 73.5, 1)\n",
    "\n",
    "chains_to_plot = [\"modrec_new_lensing\", \"modrec_new_lensing_bao\"]\n",
    "\n",
    "pred_dict = {}\n",
    "model_dict = {}\n",
    "for chain_name in chains_to_plot:\n",
    "    pred_dict[chain_name] = {}\n",
    "    model_dict[chain_name] = {}\n",
    "    for band in band_left_edges:\n",
    "        selection_criteria = {\"H0\": [band, band+1],\n",
    "                            \"chi2\": [0, chi2_lensing_bao_lcdm_bestfit]}\n",
    "        selection_predictions, selection_models =  get_predictions_for_selection(chains[chain_name], em, criteria=selection_criteria)\n",
    "        pred_dict[chain_name][band] = selection_predictions\n",
    "        model_dict[chain_name][band] = selection_models"
   ]
  },
  {
   "cell_type": "code",
   "execution_count": 9,
   "metadata": {},
   "outputs": [
    {
     "name": "stdout",
     "output_type": "stream",
     "text": [
      "Key\tTest model\tTest model standard\n",
      "omega_b\t0.022610112\t0.022610112\n",
      "omega_cdm\t0.12132367\t0.12132367\n",
      "n_s\t0.9658194\t0.9658194\n",
      "tau_reio\t0.064580625\t0.064580625\n",
      "ln10^{10}A_s\t3.064918\t3.064918\n",
      "H0\t71.751461\t71.751461\n",
      "q_1\t-0.44001684\t0.0\n",
      "q_2\t-0.18203094\t0.0\n",
      "q_3\t-0.42500504\t0.0\n",
      "q_4\t0.10484783\t0.0\n",
      "q_5\t-1.418563\t0.0\n"
     ]
    }
   ],
   "source": [
    "model_dict[\"modrec_new_lensing\"][71.5]\n",
    "\n",
    "idx=0\n",
    "test_model = {k:v[idx] for k,v in model_dict[\"modrec_new_lensing\"][71.5].items()}\n",
    "test_model_standard = {}\n",
    "\n",
    "for k,v in test_model.items():\n",
    "    if k.startswith(\"q_\"):\n",
    "        test_model_standard[k]=0.0\n",
    "    else:\n",
    "        test_model_standard[k]=v\n",
    "\n",
    "print(\"Key\\tTest model\\tTest model standard\")\n",
    "for k in test_model.keys():\n",
    "    print(\"{}\\t{}\\t{}\".format(k, test_model[k], test_model_standard[k]))"
   ]
  },
  {
   "cell_type": "code",
   "execution_count": 99,
   "metadata": {},
   "outputs": [
    {
     "name": "stdout",
     "output_type": "stream",
     "text": [
      "There are 5 free control points placed at:\n",
      "[ 933.33333333 1066.66666667 1200.         1333.33333333 1466.66666667]\n",
      "{'omega_b': 0.022610112, 'omega_cdm': 0.12132367, 'n_s': 0.9658194, 'tau_reio': 0.064580625, 'ln10^{10}A_s': 3.064918, 'H0': 71.751461}\n"
     ]
    }
   ],
   "source": [
    "standard_params = [\"omega_b\", \"omega_cdm\", \"n_s\", \"tau_reio\", \"ln10^{10}A_s\", \"H0\"]\n",
    "\n",
    "def create_cp_string(list_of_control_points):\n",
    "\n",
    "    list_of_control_points = np.insert(list_of_control_points, 0, 0.0)\n",
    "    list_of_control_points = np.append(list_of_control_points, 0.0)\n",
    "    str_ctrl = [\"{:.4f}\".format(c) for c in list_of_control_points]\n",
    "    str_ctrl = \",\".join(str_ctrl)\n",
    "\n",
    "    return str_ctrl\n",
    "######################################################\n",
    "#  Choosing parameters of model\n",
    "######################################################\n",
    "\n",
    "zmin_pert = 800\n",
    "zmax_pert = 1600\n",
    "num_free_control_points = 5\n",
    "\n",
    "pivots = np.linspace(zmin_pert, zmax_pert, 7)\n",
    "free_pivots = pivots[1:-1]\n",
    "pivots_str = \",\".join([\"{:.4f}\".format(p) for p in pivots])\n",
    "zgrid = np.linspace(zmin_pert-300, zmax_pert+300, 1000)\n",
    "\n",
    "print(\"There are {} free control points placed at:\".format(num_free_control_points))\n",
    "print(free_pivots)\n",
    "\n",
    "######################################################\n",
    "#  Setting general class settings\n",
    "######################################################\n",
    "common_settings = {'output' : 'tCl,pCl,lCl',\n",
    "                   'N_ur': 2.0308,\n",
    "                  'N_ncdm': 1,\n",
    "                  'm_ncdm': 0.06,\n",
    "                  'T_ncdm': 0.71611, #1 species of massive neutrinos\n",
    "                  'accurate_lensing': 1.0,\n",
    "                  #'k_max_tau0_over_l_max': 15.00,\n",
    "                  'perturbations_sampling_stepsize': 0.05,\n",
    "                  'xe_pert_type': 'control',\n",
    "                  'xe_pert_num': 7,\n",
    "                  'xe_control_pivots': pivots_str,\n",
    "                  'zmin_pert': zmin_pert,\n",
    "                  'zmax_pert': zmax_pert,\n",
    "                  'start_sources_at_tau_c_over_tau_h': 0.004\n",
    "                  }\n",
    "\n",
    "cosmo_params = {k:test_model[k] for k in standard_params}\n",
    "print(cosmo_params)"
   ]
  },
  {
   "cell_type": "code",
   "execution_count": 100,
   "metadata": {},
   "outputs": [
    {
     "name": "stdout",
     "output_type": "stream",
     "text": [
      "{'output': 'tCl,pCl,lCl', 'N_ur': 2.0308, 'N_ncdm': 1, 'm_ncdm': 0.06, 'T_ncdm': 0.71611, 'accurate_lensing': 1.0, 'perturbations_sampling_stepsize': 0.05, 'xe_pert_type': 'control', 'xe_pert_num': 7, 'xe_control_pivots': '800.0000,933.3333,1066.6667,1200.0000,1333.3333,1466.6667,1600.0000', 'zmin_pert': 800, 'zmax_pert': 1600, 'start_sources_at_tau_c_over_tau_h': 0.004, 'omega_b': 0.022610112, 'omega_cdm': 0.12132367, 'n_s': 0.9658194, 'tau_reio': 0.064580625, 'ln10^{10}A_s': 3.064918, 'H0': 71.751461, 'xe_control_points': '0.0000,-0.4400,-0.1820,-0.4250,0.1048,-1.4186,0.0000'}\n"
     ]
    }
   ],
   "source": [
    "total_settings = common_settings.copy()\n",
    "total_settings.update(cosmo_params)\n",
    "cp_list = create_cp_string([test_model[k] for k in test_model.keys() if k.startswith(\"q_\")])\n",
    "total_settings.update({\"xe_control_points\": cp_list})\n",
    "print(total_settings)\n",
    "M = Class.Class()\n",
    "M.set(total_settings)\n",
    "M.compute(level=[\"thermodynamics\"])\n",
    "thermo=M.get_thermodynamics()\n",
    "\n",
    "derived_params = M.get_current_derived_parameters([\"YHe\", \"z_star\"])\n",
    "\n",
    "\n",
    "pred = em.get_predictions_dict(test_model)"
   ]
  },
  {
   "cell_type": "code",
   "execution_count": 53,
   "metadata": {},
   "outputs": [
    {
     "name": "stdout",
     "output_type": "stream",
     "text": [
      "dict_keys(['z', 'conf. time [Mpc]', 'x_e', 'x_fid', 'xe_pert', \"kappa' [Mpc^-1]\", 'exp(-kappa)', 'g [Mpc^-1]', 'Tb [K]', 'dTb [K]', 'w_b', 'c_b^2', 'tau_d'])\n"
     ]
    },
    {
     "data": {
      "text/plain": [
       "(0.0, 1700.0)"
      ]
     },
     "execution_count": 53,
     "metadata": {},
     "output_type": "execute_result"
    },
    {
     "data": {
      "image/png": "[encoded data removed]",
      "text/plain": [
       "<Figure size 800x600 with 1 Axes>"
      ]
     },
     "metadata": {
      "image/png": {
       "height": 511,
       "width": 677
      }
     },
     "output_type": "display_data"
    }
   ],
   "source": [
    "fig,ax = plt.subplots()\n",
    "print(thermo.keys())\n",
    "ax.plot(thermo[\"z\"], thermo[\"x_e\"])\n",
    "ax.plot(em.output_info[\"output_z_grids\"][\"x_e\"],pred[\"x_e\"][0])\n",
    "ax.set_xlim([0, 1700])"
   ]
  },
  {
   "cell_type": "code",
   "execution_count": 76,
   "metadata": {},
   "outputs": [],
   "source": [
    "def integrand(z, xe_func, params, YHe = .245):\n",
    "    cosmo = CosmoCalculator(params)\n",
    "    prefactor = (cosmo.omega_b*cosmo.hubble)*(1-YHe)*(0.0684)\n",
    "    return prefactor*xe_func(z)*(1+z)**2 / (cosmo.E(z))"
   ]
  },
  {
   "cell_type": "code",
   "execution_count": 97,
   "metadata": {},
   "outputs": [],
   "source": [
    "xe_interp_fid = CubicSpline(thermo[\"z\"], thermo[\"x_fid\"], extrapolate=True)\n",
    "xe_interp_pert = CubicSpline(thermo[\"z\"], thermo[\"x_e\"], extrapolate=True)\n",
    "\n",
    "def optical_depth(z, xe_func, settings):\n",
    "    return scipy.integrate.quad(integrand, 0, z, args=(xe_func, settings))[0]"
   ]
  },
  {
   "cell_type": "code",
   "execution_count": 98,
   "metadata": {},
   "outputs": [
    {
     "data": {
      "text/plain": [
       "1.008348611159441"
      ]
     },
     "execution_count": 98,
     "metadata": {},
     "output_type": "execute_result"
    }
   ],
   "source": [
    "optical_depth(1175.1317371597538, xe_interp_pert, total_settings)"
   ]
  },
  {
   "cell_type": "code",
   "execution_count": 101,
   "metadata": {},
   "outputs": [
    {
     "data": {
      "text/plain": [
       "dict_keys(['z', 'conf. time [Mpc]', 'x_e', 'x_fid', 'xe_pert', \"kappa' [Mpc^-1]\", 'exp(-kappa)', 'g [Mpc^-1]', 'Tb [K]', 'dTb [K]', 'w_b', 'c_b^2', 'tau_d'])"
      ]
     },
     "execution_count": 101,
     "metadata": {},
     "output_type": "execute_result"
    }
   ],
   "source": [
    "thermo.keys()"
   ]
  },
  {
   "cell_type": "code",
   "execution_count": null,
   "metadata": {},
   "outputs": [],
   "source": [
    "fig,ax = plt.subplots()\n",
    "\n",
    "\n",
    "ax.plot(thermo[\"z\"])"
   ]
  }
 ],
 "metadata": {
  "kernelspec": {
   "display_name": "connect_x86",
   "language": "python",
   "name": "python3"
  },
  "language_info": {
   "codemirror_mode": {
    "name": "ipython",
    "version": 3
   },
   "file_extension": ".py",
   "mimetype": "text/x-python",
   "name": "python",
   "nbconvert_exporter": "python",
   "pygments_lexer": "ipython3",
   "version": "3.9.15"
  }
 },
 "nbformat": 4,
 "nbformat_minor": 2
}
