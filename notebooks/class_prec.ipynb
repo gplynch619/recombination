{
 "cells": [
  {
   "cell_type": "code",
   "execution_count": 1,
   "metadata": {},
   "outputs": [
    {
     "name": "stdout",
     "output_type": "stream",
     "text": [
      "{'tol_ncdm_bg': 1e-10, 'tol_thermo_integration': 1e-05, 'recfast_x_He0_trigger_delta': 0.01, 'recfast_x_H0_trigger_delta': 0.01, 'evolver': 0.0, 'k_min_tau0': 0.002, 'k_max_tau0_over_l_max': 15.0, 'k_step_sub': 0.015, 'k_step_super': 0.0001, 'k_step_super_reduction': 0.1, 'start_small_k_at_tau_c_over_tau_h': 0.0004, 'start_large_k_at_tau_h_over_tau_k': 0.05, 'tight_coupling_trigger_tau_c_over_tau_h': 0.005, 'tight_coupling_trigger_tau_c_over_tau_k': 0.008, 'start_sources_at_tau_c_over_tau_h': 0.006, 'l_max_g': 50.0, 'l_max_pol_g': 25.0, 'l_max_ur': 50.0, 'l_max_ncdm': 50.0, 'l_max_scalars': 10000.0, 'tol_perturbations_integration': 1e-06, 'perturbations_sampling_stepsize': 0.01, 'radiation_streaming_approximation': 2.0, 'radiation_streaming_trigger_tau_over_tau_k': 240.0, 'radiation_streaming_trigger_tau_c_over_tau': 100.0, 'ur_fluid_approximation': 2.0, 'ur_fluid_trigger_tau_over_tau_k': 50.0, 'ncdm_fluid_approximation': 3.0, 'ncdm_fluid_trigger_tau_over_tau_k': 51.0, 'tol_ncdm_synchronous': 1e-10, 'tol_ncdm_newtonian': 1e-10, 'l_logstep': 1.026, 'l_linstep': 25.0, 'hyper_sampling_flat': 12.0, 'hyper_sampling_curved_low_nu': 10.0, 'hyper_sampling_curved_high_nu': 10.0, 'hyper_nu_sampling_step': 10.0, 'hyper_phi_min_abs': 1e-10, 'hyper_x_tol': 0.0001, 'hyper_flat_approximation_nu': 1000000.0, 'q_linstep': 0.2, 'q_logstep_spline': 20.0, 'q_logstep_trapzd': 0.5, 'q_numstep_transition': 250.0, 'transfer_neglect_delta_k_S_t0': 100.0, 'transfer_neglect_delta_k_S_t1': 100.0, 'transfer_neglect_delta_k_S_t2': 100.0, 'transfer_neglect_delta_k_S_e': 100.0, 'transfer_neglect_delta_k_V_t1': 100.0, 'transfer_neglect_delta_k_V_t2': 100.0, 'transfer_neglect_delta_k_V_e': 100.0, 'transfer_neglect_delta_k_V_b': 100.0, 'transfer_neglect_delta_k_T_t2': 100.0, 'transfer_neglect_delta_k_T_e': 100.0, 'transfer_neglect_delta_k_T_b': 100.0, 'neglect_CMB_sources_below_visibility': 1e-30, 'transfer_neglect_late_source': 3000.0, 'halofit_k_per_decade': 3000.0, 'l_switch_limber': 40.0, 'accurate_lensing': 1.0, 'num_mu_minus_lmax': 1000.0, 'delta_l_max': 1000.0}\n"
     ]
    }
   ],
   "source": [
    "import classy as Class\n",
    "import matplotlib as mpl\n",
    "import matplotlib.pyplot as plt\n",
    "import numpy as np\n",
    "import time\n",
    "import pickle as pkl\n",
    "import os\n",
    "from datetime import datetime\n",
    "from IPython.display import display, clear_output\n",
    "\n",
    "######################################################\n",
    "#  Setting up plots\n",
    "######################################################\n",
    "\n",
    "%config InlineBackend.figure_format = 'retina'\n",
    "font = {'size'   : 16, 'family':'STIXGeneral'}\n",
    "axislabelfontsize='large'\n",
    "mpl.rc('font', **font)\n",
    "plt.rcParams[\"figure.figsize\"] = [8.0,6.0]\n",
    "#plt.rcParams['text.usetex']=True\n",
    "fsize=16\n",
    "\n",
    "######################################################\n",
    "#  Setting fiducial parameters\n",
    "#  Planck18 TT,TE,EE+lowE+lensing+BAO\n",
    "######################################################\n",
    "\n",
    "As = 2.100549e-9\n",
    "ln10e10As = np.log(1e10*As)\n",
    "\n",
    "ll_max = 4000\n",
    "\n",
    "standard_params = {\n",
    "    \"omega_b\": 0.0223828,\n",
    "    \"omega_cdm\": 0.1201075,\n",
    "    \"n_s\": 0.9660499,\n",
    "    \"tau_reio\": 0.05430842,\n",
    "    \"ln10^{10}A_s\": ln10e10As,\n",
    "    #\"100*theta_s\": 1.04,\n",
    "    \"H0\": 67.32117\n",
    "}\n",
    "\n",
    "common_settings = {'output' : 'tCl,pCl,lCl',\n",
    "                   'thermodynamics_verbose': 0,\n",
    "                   'input_verbose': 0,\n",
    "                   'recombination': 'RECFAST',\n",
    "                   'lensing': 'yes',\n",
    "                   'xe_pert_type': 'none',\n",
    "                   'N_ur': 2.0308,\n",
    "                   'N_ncdm': 1,\n",
    "                   'm_ncdm': 0.06,\n",
    "                   'T_ncdm': 0.71611, #1 species of massive neutrinos\n",
    "                  }\n",
    "\n",
    "precision_settings = {}\n",
    "with open(\"/Users/gabe/projects/class_h0/cl_ref.pre\") as f:\n",
    "    lines = f.readlines()\n",
    "    for line in lines:\n",
    "        line = line.strip()\n",
    "        if len(line)>0:\n",
    "            if not line.startswith(\"#\"):\n",
    "                split = line.split(\"=\")\n",
    "                precision_settings[split[0].strip()] = float(split[1].strip())\n",
    "\n",
    "print(precision_settings)\n"
   ]
  },
  {
   "cell_type": "code",
   "execution_count": null,
   "metadata": {},
   "outputs": [],
   "source": [
    "class_settings = {}\n",
    "class_settings.update(common_settings)\n",
    "class_settings.update(standard_params)\n",
    "class_settings.update(precision_settings)\n",
    "M = Class.Class()\n",
    "tic = time.perf_counter()\n",
    "M.set(class_settings)\n",
    "M.compute()\n",
    "toc = time.perf_counter()\n",
    "\n",
    "Tcmb = M.T_cmb()*10**6 #cmb temp in micro kelvin, because\n",
    "muK2 = (Tcmb)**2\n",
    "ll_max_request = 10000\n",
    "    ######################################################\n",
    "    # Computing fiducial spectra\n",
    "    ######################################################\n",
    "result_dict = {}\n",
    "result_dict[\"tt\"] =  muK2*M.lensed_cl(ll_max_request)['tt'][2:]\n",
    "result_dict[\"te\"] =  muK2*M.lensed_cl(ll_max_request)['te'][2:]\n",
    "result_dict[\"ee\"] =  muK2*M.lensed_cl(ll_max_request)['ee'][2:]\n",
    "result_dict[\"pp\"] =  muK2*M.lensed_cl(ll_max_request)['pp'][2:]\n",
    "result_dict[\"settings\"] = \"cl_ref.pre\"\n",
    "result_dict[\"settings\"][\"s\"] = toc-tic\n",
    "\n",
    "M.struct_cleanup()"
   ]
  },
  {
   "cell_type": "code",
   "execution_count": null,
   "metadata": {},
   "outputs": [],
   "source": [
    "with open(\"../data/class_ultra_precise.pkl\", \"wb\") as f:\n",
    "    f.dump(f, result_dict)"
   ]
  }
 ],
 "metadata": {
  "kernelspec": {
   "display_name": "connect_x86",
   "language": "python",
   "name": "python3"
  },
  "language_info": {
   "codemirror_mode": {
    "name": "ipython",
    "version": 3
   },
   "file_extension": ".py",
   "mimetype": "text/x-python",
   "name": "python",
   "nbconvert_exporter": "python",
   "pygments_lexer": "ipython3",
   "version": "3.9.15"
  },
  "orig_nbformat": 4
 },
 "nbformat": 4,
 "nbformat_minor": 2
}
