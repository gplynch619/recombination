{
 "cells": [
  {
   "cell_type": "markdown",
   "metadata": {},
   "source": [
    "# Setting up Fisher matrix calculation"
   ]
  },
  {
   "cell_type": "code",
   "execution_count": 1,
   "metadata": {},
   "outputs": [
    {
     "name": "stdout",
     "output_type": "stream",
     "text": [
      "/Users/gabe/.local/lib/python3.9/site-packages/classy-2.9.0-py3.9-macosx-10.9-x86_64.egg/classy.cpython-39-darwin.so\n"
     ]
    }
   ],
   "source": [
    "import classy as Class\n",
    "import matplotlib\n",
    "import matplotlib.pyplot as plt\n",
    "import numpy as np\n",
    "import os\n",
    "from datetime import datetime\n",
    "from IPython.display import display, clear_output\n",
    "\n",
    "######################################################\n",
    "#  Setting up plots\n",
    "######################################################\n",
    "\n",
    "%config InlineBackend.figure_format = 'retina'\n",
    "font = {'size'   : 16, 'family':'STIXGeneral'}\n",
    "axislabelfontsize='large'\n",
    "matplotlib.rc('font', **font)\n",
    "matplotlib.mathtext.rcParams['legend.fontsize']='medium'\n",
    "plt.rcParams[\"figure.figsize\"] = [8.0,6.0]\n",
    "fsize=14\n",
    "\n",
    "######################################################\n",
    "#  Setting fiducial parameters\n",
    "#  Planck18 TT,TE,EE+lowE+lensing\n",
    "######################################################\n",
    "\n",
    "ln10e10As = 3.044\n",
    "\n",
    "planck_baseline_params = {\n",
    "    \"omega_b\": 0.02237,\n",
    "    \"omega_cdm\": 0.1200,\n",
    "    \"n_s\": 0.9649,\n",
    "    \"tau_reio\": 0.0544,\n",
    "    \"ln10^{10}A_s\": ln10e10As,\n",
    "    \"H0\": 67.36\n",
    "}\n",
    "\n",
    "planck_baseline_sigma = {\n",
    "    \"omega_b\": 0.00015,\n",
    "    \"omega_cdm\": 0.0012,\n",
    "    \"n_s\": 0.0042,\n",
    "    \"tau_reio\": 0.0073,\n",
    "    \"ln10^{10}A_s\": 0.014,\n",
    "    \"H0\": 0.54\n",
    "}\n",
    "\n",
    "######################################################\n",
    "#  Configuring the run\n",
    "######################################################\n",
    "\n",
    "\n",
    "common_settings = {'output' : 'tCl,pCl,lCl',\n",
    "                   'thermodynamics_verbose': 0,\n",
    "                   'input_verbose': 0,\n",
    "                   'lensing': 'yes',\n",
    "                   'xe_pert_type': 'none'\n",
    "                  }\n",
    "\n",
    "#LCDM parameters\n",
    "for name, value in planck_baseline_params.items():\n",
    "    common_settings.update({name: value})\n",
    "\n",
    "pr_cover_tau = 0.004\n",
    "precision_settings = {\"start_sources_at_tau_c_over_tau_h\": pr_cover_tau}\n",
    "\n",
    "M = Class.Class()\n",
    "M.set(common_settings)\n",
    "M.set(precision_settings)\n",
    "print(Class.__file__)"
   ]
  },
  {
   "cell_type": "code",
   "execution_count": 2,
   "metadata": {},
   "outputs": [
    {
     "data": {
      "text/plain": [
       "<classy.Class at 0x117f98d00>"
      ]
     },
     "execution_count": 2,
     "metadata": {},
     "output_type": "execute_result"
    }
   ],
   "source": [
    "M.compute()"
   ]
  },
  {
   "cell_type": "markdown",
   "metadata": {},
   "source": [
    "# Finding perturbation $z_{min}$ and $z_{max}$"
   ]
  },
  {
   "cell_type": "code",
   "execution_count": 3,
   "metadata": {},
   "outputs": [
    {
     "name": "stdout",
     "output_type": "stream",
     "text": [
      "Viz function has value 0.004296229970380346 at index 2909 and redshift 1221.0\n",
      "0.20*viz_max = 0.004246059483756924\n",
      "Viz function has value 0.0010608444670408507 at index 2108 and redshift 820.5\n",
      "0.05*viz_max = 0.001061514870939231\n",
      "686.3333333333334\n",
      "686.3333,820.0000,953.6667,1087.3333,1221.0000,1354.6667\n"
     ]
    }
   ],
   "source": [
    "from scipy.interpolate import interp1d\n",
    "\n",
    "fiducial_thermo = M.get_thermodynamics()\n",
    "Tcmb = M.T_cmb()*10**6 #cmb temp in micro kelvin\n",
    "ll_max = 2500\n",
    "ll = np.arange(2, ll_max+1)\n",
    "muK2 = (Tcmb)**2\n",
    "\n",
    "######################################################\n",
    "# Fiducial quantities\n",
    "######################################################\n",
    "\n",
    "tt_fid = muK2*M.lensed_cl(ll_max)['tt'][2:]\n",
    "te_fid = muK2*M.lensed_cl(ll_max)['te'][2:]\n",
    "ee_fid = muK2*M.lensed_cl(ll_max)['ee'][2:]\n",
    "xe_fid = fiducial_thermo[\"x_fid\"]\n",
    "viz_fid = fiducial_thermo[\"kappa' [Mpc^-1]\"]*fiducial_thermo[\"exp(-kappa)\"]\n",
    "\n",
    "Yp_fid = M.get_current_derived_parameters(['YHe'])['YHe']\n",
    "xe_max_fid = 1 + Yp_fid/2*(1-Yp_fid)\n",
    "\n",
    "######################################################\n",
    "# z_min and z_max are set by picking some \n",
    "# threshold where the visibility function equals\n",
    "# a given percentage of its maximum\n",
    "######################################################\n",
    "\n",
    "ind_max = np.argmax(viz_fid)\n",
    "max_viz = viz_fid[ind_max]\n",
    "\n",
    "highz_percent_cutoff = 0.2\n",
    "lowz_percent_cutoff = 0.05\n",
    "\n",
    "test = np.where(viz_fid<highz_percent_cutoff*max_viz, 1, 0) #when true, array will be 1, 0 when false\n",
    "ind_highz = np.argwhere(np.diff(test)==1)[0][0] #finds first index where we switch from true to false\n",
    "\n",
    "test = np.where(viz_fid<lowz_percent_cutoff*max_viz, 1, 0)\n",
    "ind_lowz = np.argwhere(np.diff(test)==-1)[0][0]\n",
    "\n",
    "print(\"Viz function has value {0} at index {1} and redshift {2}\".format(viz_fid[ind_highz], ind_highz, fiducial_thermo['z'][ind_highz]))\n",
    "print(\"{0:.2f}*viz_max = {1}\".format(highz_percent_cutoff, highz_percent_cutoff*max_viz))\n",
    "\n",
    "print(\"Viz function has value {0} at index {1} and redshift {2}\".format(viz_fid[ind_lowz], ind_lowz, fiducial_thermo['z'][ind_lowz]))\n",
    "print(\"{0:.2f}*viz_max = {1}\".format(lowz_percent_cutoff, lowz_percent_cutoff*max_viz))\n",
    "\n",
    "######################################################\n",
    "# Setting string of control point pivots\n",
    "# First varied pivot will be at redshift\n",
    "# found above\n",
    "######################################################\n",
    "\n",
    "num_control_points = 4\n",
    "free_pivots = np.linspace(start=np.floor(fiducial_thermo['z'][ind_lowz]), stop=np.floor(fiducial_thermo['z'][ind_highz]), num=num_control_points)\n",
    "dz_pivot = np.diff(free_pivots)[0]\n",
    "zmin_pert = free_pivots[0] - dz_pivot\n",
    "zmax_pert = free_pivots[-1] + dz_pivot\n",
    "\n",
    "print(zmin_pert)\n",
    "\n",
    "pivots = np.insert(free_pivots, 0, zmin_pert)\n",
    "pivots = np.append(pivots, zmax_pert)\n",
    "\n",
    "str_pivots = [\"{:.4f}\".format(p) for p in pivots]\n",
    "str_pivots = \",\".join(str_pivots)\n",
    "print(str_pivots)"
   ]
  },
  {
   "cell_type": "markdown",
   "metadata": {},
   "source": [
    "# Setting up Fisher calculation\n"
   ]
  },
  {
   "cell_type": "code",
   "execution_count": 4,
   "metadata": {},
   "outputs": [],
   "source": [
    "sys.path.insert(0, '/Users/gabe/projects/recombination/src')\n",
    "from RecTools import *\n",
    "\n",
    "#######################################################\n",
    "# Fisher parameters\n",
    "######################################################\n",
    "\n",
    "# reproducing here the fiducial cosmology for clarity\n",
    "\n",
    "ln10e10As = 3.044\n",
    "\n",
    "planck_baseline_params = {\n",
    "    \"omega_b\": 0.02237,\n",
    "    \"omega_cdm\": 0.1200,\n",
    "    \"n_s\": 0.9649,\n",
    "    \"tau_reio\": 0.0544,\n",
    "    \"ln10^{10}A_s\": ln10e10As,\n",
    "    \"H0\": 67.36\n",
    "}\n",
    "\n",
    "noise_parameters = {'beam_FWHM_143_arcmin' : 7.3,\n",
    "                        'beam_FWHM_217_arcmin' : 4.90,\n",
    "                        'weight_inv_T_143' : 0.36e-4,\n",
    "                        'weight_inv_P_143' : 1.61e-4,\n",
    "                        'weight_inv_T_217' : 0.78e-4,\n",
    "                        'weight_inv_P_217' : 3.25e-4,\n",
    "                        'fsky' : 0.8,\n",
    "                        'use_143' : True,\n",
    "                        'use_217' : True\n",
    "                        }  \n",
    "\n",
    "#for now just do a 'standard' fisher calculation\n",
    "recombination_params = {\"zmin_pert\": zmin_pert,\n",
    "                        \"zmax_pert\": zmax_pert,\n",
    "                        \"ll_max\": 2500,\n",
    "                        \"thermodynamics_verbose\": 0,\n",
    "                        \"xe_pert_type\": 'control',\n",
    "                        \"noise_params\": noise_parameters,\n",
    "                        \"save_output\": False,\n",
    "                        \"xe_control_pivots\": str_pivots\n",
    "                        }\n",
    "\n",
    "#######################################################\n",
    "# Fisher calculation\n",
    "######################################################"
   ]
  },
  {
   "cell_type": "code",
   "execution_count": 5,
   "metadata": {},
   "outputs": [
    {
     "name": "stdout",
     "output_type": "stream",
     "text": [
      "['omega_b', 'omega_cdm', 'n_s', 'tau_reio', 'ln10^{10}A_s', 'H0', 'xe_control_points']\n",
      "Computing Fisher matrix for variables: ['omega_b', 'omega_cdm', 'n_s', 'tau_reio', 'ln10^{10}A_s', 'H0', 'xe_control_points']\n",
      "omega_b\n",
      "omega_cdm\n",
      "n_s\n",
      "tau_reio\n",
      "ln10^{10}A_s\n",
      "H0\n",
      "q_1\n",
      "q_2\n",
      "q_3\n",
      "q_4\n",
      "Fisher matrices calculation completed at 10/25/2022, 16:15:42\n"
     ]
    }
   ],
   "source": [
    "calc = FisherCalculator(planck_baseline_params, recombination_params, \"test\")\n",
    "target_params = [*planck_baseline_params.keys(), 'xe_control_points']\n",
    "print(target_params)\n",
    "fm = calc.compute_Fisher(target_params)\n",
    "#print(list(planck_baseline_params.keys()))"
   ]
  },
  {
   "cell_type": "code",
   "execution_count": 7,
   "metadata": {},
   "outputs": [
    {
     "ename": "TypeError",
     "evalue": "only integer scalar arrays can be converted to a scalar index",
     "output_type": "error",
     "traceback": [
      "\u001b[0;31m---------------------------------------------------------------------------\u001b[0m",
      "\u001b[0;31mTypeError\u001b[0m                                 Traceback (most recent call last)",
      "\u001b[1;32m/Users/gabe/projects/recombination/notebooks/hypersphere_sampling.ipynb Cell 9\u001b[0m in \u001b[0;36m<cell line: 1>\u001b[0;34m()\u001b[0m\n\u001b[0;32m----> <a href='vscode-notebook-cell:/Users/gabe/projects/recombination/notebooks/hypersphere_sampling.ipynb#X30sZmlsZQ%3D%3D?line=0'>1</a>\u001b[0m marg \u001b[39m=\u001b[39m fm\u001b[39m.\u001b[39;49mget_marginalized_matrix([\u001b[39m\"\u001b[39;49m\u001b[39mH0\u001b[39;49m\u001b[39m\"\u001b[39;49m, \u001b[39m\"\u001b[39;49m\u001b[39momega_b\u001b[39;49m\u001b[39m\"\u001b[39;49m])\n\u001b[1;32m      <a href='vscode-notebook-cell:/Users/gabe/projects/recombination/notebooks/hypersphere_sampling.ipynb#X30sZmlsZQ%3D%3D?line=1'>2</a>\u001b[0m \u001b[39mprint\u001b[39m(fm\u001b[39m.\u001b[39mcol_names)\n\u001b[1;32m      <a href='vscode-notebook-cell:/Users/gabe/projects/recombination/notebooks/hypersphere_sampling.ipynb#X30sZmlsZQ%3D%3D?line=2'>3</a>\u001b[0m \u001b[39mprint\u001b[39m(marg)\n",
      "File \u001b[0;32m~/projects/recombination/src/RecTools.py:545\u001b[0m, in \u001b[0;36mFisherMatrix.get_marginalized_matrix\u001b[0;34m(self, parameters_to_keep)\u001b[0m\n\u001b[1;32m    543\u001b[0m \u001b[39mdef\u001b[39;00m \u001b[39mget_marginalized_matrix\u001b[39m(\u001b[39mself\u001b[39m, parameters_to_keep):\n\u001b[1;32m    544\u001b[0m     indices_to_keep \u001b[39m=\u001b[39m np\u001b[39m.\u001b[39mwhere(np\u001b[39m.\u001b[39misin(\u001b[39mself\u001b[39m\u001b[39m.\u001b[39mcol_names, parameters_to_keep))[\u001b[39m0\u001b[39m]\n\u001b[0;32m--> 545\u001b[0m     marg_cols \u001b[39m=\u001b[39m \u001b[39mself\u001b[39;49m\u001b[39m.\u001b[39;49mcol_names[indices_to_keep]\n\u001b[1;32m    546\u001b[0m     sorted_ind \u001b[39m=\u001b[39m [\u001b[39mint\u001b[39m(np\u001b[39m.\u001b[39mwhere(marg_cols\u001b[39m==\u001b[39mn)[\u001b[39m0\u001b[39m]) \u001b[39mfor\u001b[39;00m n \u001b[39min\u001b[39;00m parameters_to_keep]\n\u001b[1;32m    547\u001b[0m     cov \u001b[39m=\u001b[39m np\u001b[39m.\u001b[39mlinalg\u001b[39m.\u001b[39mpinv(\u001b[39mself\u001b[39m\u001b[39m.\u001b[39mFisher)\n",
      "\u001b[0;31mTypeError\u001b[0m: only integer scalar arrays can be converted to a scalar index"
     ]
    }
   ],
   "source": [
    "marg = fm.get_marginalized_matrix([\"H0\", \"omega_b\"])\n",
    "print(fm.col_names)\n",
    "print(marg)\n",
    "print(fm.class_parameters)\n",
    "print(fm.fisher_settings)"
   ]
  },
  {
   "cell_type": "code",
   "execution_count": null,
   "metadata": {},
   "outputs": [
    {
     "ename": "AttributeError",
     "evalue": "'FisherMatrix' object has no attribute 'cosmo_params'",
     "output_type": "error",
     "traceback": [
      "\u001b[0;31m---------------------------------------------------------------------------\u001b[0m",
      "\u001b[0;31mAttributeError\u001b[0m                            Traceback (most recent call last)",
      "\u001b[1;32m/Users/gabe/projects/recombination/notebooks/hypersphere_sampling.ipynb Cell 10\u001b[0m in \u001b[0;36m<cell line: 3>\u001b[0;34m()\u001b[0m\n\u001b[1;32m      <a href='vscode-notebook-cell:/Users/gabe/projects/recombination/notebooks/hypersphere_sampling.ipynb#X31sZmlsZQ%3D%3D?line=0'>1</a>\u001b[0m fig,ax \u001b[39m=\u001b[39m plt\u001b[39m.\u001b[39msubplots()\n\u001b[0;32m----> <a href='vscode-notebook-cell:/Users/gabe/projects/recombination/notebooks/hypersphere_sampling.ipynb#X31sZmlsZQ%3D%3D?line=2'>3</a>\u001b[0m \u001b[39mprint\u001b[39m(fm\u001b[39m.\u001b[39;49mellipse2d([\u001b[39m\"\u001b[39;49m\u001b[39mq_1\u001b[39;49m\u001b[39m\"\u001b[39;49m, \u001b[39m\"\u001b[39;49m\u001b[39mq_2\u001b[39;49m\u001b[39m\"\u001b[39;49m]))\n\u001b[1;32m      <a href='vscode-notebook-cell:/Users/gabe/projects/recombination/notebooks/hypersphere_sampling.ipynb#X31sZmlsZQ%3D%3D?line=3'>4</a>\u001b[0m ax\u001b[39m.\u001b[39madd_patch(fm\u001b[39m.\u001b[39mellipse2d([\u001b[39m\"\u001b[39m\u001b[39mq_1\u001b[39m\u001b[39m\"\u001b[39m, \u001b[39m\"\u001b[39m\u001b[39mq_2\u001b[39m\u001b[39m\"\u001b[39m]))\n\u001b[1;32m      <a href='vscode-notebook-cell:/Users/gabe/projects/recombination/notebooks/hypersphere_sampling.ipynb#X31sZmlsZQ%3D%3D?line=4'>5</a>\u001b[0m ax\u001b[39m.\u001b[39mset_xlim([\u001b[39m0.118\u001b[39m, \u001b[39m0.123\u001b[39m])\n",
      "File \u001b[0;32m~/projects/recombination/src/RecTools.py:551\u001b[0m, in \u001b[0;36mFisherMatrix.ellipse2d\u001b[0;34m(self, parameter_combo)\u001b[0m\n\u001b[1;32m    550\u001b[0m \u001b[39mdef\u001b[39;00m \u001b[39mellipse2d\u001b[39m(\u001b[39mself\u001b[39m, parameter_combo): \u001b[39m#should be list of 2 parameter names\u001b[39;00m\n\u001b[0;32m--> 551\u001b[0m     center \u001b[39m=\u001b[39m [\u001b[39mself\u001b[39;49m\u001b[39m.\u001b[39;49mcosmo_params[parameter_combo[\u001b[39m0\u001b[39m]], \u001b[39mself\u001b[39m\u001b[39m.\u001b[39mcosmo_params[parameter_combo[\u001b[39m1\u001b[39m]]]\n\u001b[1;32m    552\u001b[0m     mat \u001b[39m=\u001b[39m np\u001b[39m.\u001b[39mlinalg\u001b[39m.\u001b[39mpinv(\u001b[39mself\u001b[39m\u001b[39m.\u001b[39mget_marginalized_matrix(parameter_combo))\n\u001b[1;32m    553\u001b[0m     sigx2 \u001b[39m=\u001b[39m mat[\u001b[39m0\u001b[39m,\u001b[39m0\u001b[39m]\n",
      "\u001b[0;31mAttributeError\u001b[0m: 'FisherMatrix' object has no attribute 'cosmo_params'"
     ]
    },
    {
     "data": {
      "image/png": "[encoded data removed]",
      "text/plain": [
       "<Figure size 432x288 with 1 Axes>"
      ]
     },
     "metadata": {
      "image/png": {
       "height": 250,
       "width": 374
      },
      "needs_background": "light"
     },
     "output_type": "display_data"
    }
   ],
   "source": [
    "fig,ax = plt.subplots()\n",
    "\n",
    "print(fm.ellipse2d([\"q_1\", \"q_2\"]))\n",
    "ax.add_patch(fm.ellipse2d([\"q_1\", \"q_2\"]))\n",
    "ax.set_xlim([0.118, 0.123])\n",
    "ax.set_ylim([66, 70])\n",
    "plt.show()"
   ]
  },
  {
   "cell_type": "code",
   "execution_count": null,
   "metadata": {},
   "outputs": [],
   "source": []
  }
 ],
 "metadata": {
  "interpreter": {
   "hash": "06098f59c9f32ff1b6421b8406a58522fc82c3442434fe2c7ec9120cc5425333"
  },
  "kernelspec": {
   "display_name": "Python 3.9.13 ('classy')",
   "language": "python",
   "name": "python3"
  },
  "language_info": {
   "codemirror_mode": {
    "name": "ipython",
    "version": 3
   },
   "file_extension": ".py",
   "mimetype": "text/x-python",
   "name": "python",
   "nbconvert_exporter": "python",
   "pygments_lexer": "ipython3",
   "version": "3.9.13"
  },
  "orig_nbformat": 4
 },
 "nbformat": 4,
 "nbformat_minor": 2
}
